{
  "nbformat": 4,
  "nbformat_minor": 0,
  "metadata": {
    "colab": {
      "provenance": []
    },
    "kernelspec": {
      "name": "python3",
      "display_name": "Python 3"
    },
    "language_info": {
      "name": "python"
    }
  },
  "cells": [
    {
      "cell_type": "code",
      "execution_count": 1,
      "metadata": {
        "id": "-M-GyL2qPBYF"
      },
      "outputs": [],
      "source": [
        "import numpy as np\n",
        "array1 =  np.array([[8,9],[6,7]])\n",
        "array2 = np.array([[3,4],[5,6]])"
      ]
    },
    {
      "cell_type": "code",
      "source": [
        "def matrix_operation(array1, array2, calculation):\n",
        "  if calculation == \"dot\":\n",
        "    if array1.shape != array2.shape:\n",
        "      return \"Error: Invalid arrays for dot product.\"\n",
        "    else:\n",
        "      solution = array1*array2\n",
        "      return solution\n",
        "  elif calculation == \"matrix\":\n",
        "    if array1.shape[1] != array2.shape[0]:\n",
        "      return \"Error: Invalid arrays for matrix multiplication.\"\n",
        "    else:\n",
        "      for i in range(len(array1[0])):\n",
        "         for k in range (len(array2[0])):\n",
        "           solution = [sum(array1[i][j]*array2[j][k] for j in range(len(array1[1])))]\n",
        "           return np.array(solution)\n",
        "  elif calculation == \"determinant\":\n",
        "       def determinant_cal(matrix):\n",
        "        if array1.shape[0] != array1.shape[1] or array2.shape[0] != array2.shape[1]:\n",
        "          return \"Error: Invalid array for determinant calculation.\"\n",
        "        else:\n",
        "          if len(matrix) == 1:\n",
        "            return matrix[0][0]\n",
        "          elif len(matrix) == 2:\n",
        "             return matrix[0][0] * matrix[1][1] - matrix[0][1] * matrix[1][0]\n",
        "          else:\n",
        "             D_value = 0\n",
        "             for x in range(len(matrix)):\n",
        "               M = np.delete(matrix, 0, 0)\n",
        "               M = np.delete(M, x, 1)\n",
        "               D_value = (-1) ** (x) * matrix[0][x] * determinant_cal(M)\n",
        "               return D_value\n",
        "       D1= determinant_cal(array1.tolist())\n",
        "       D2 = determinant_cal(array2.tolist())\n",
        "       return (D1, D2)\n",
        "print (\"determinants:\", matrix_operation(array1, array2, \"determinant\"))\n",
        "print (\"dot product:\", matrix_operation(array1, array2, \"dot\"))\n",
        "print (\"matrix mul:\", matrix_operation(array1, array2, \"matrix\"))"
      ],
      "metadata": {
        "colab": {
          "base_uri": "https://localhost:8080/"
        },
        "id": "XKIIL6idPEVp",
        "outputId": "affc7f04-a60a-489c-b1dc-f7e52acdfc43"
      },
      "execution_count": 9,
      "outputs": [
        {
          "output_type": "stream",
          "name": "stdout",
          "text": [
            "determinants: (2, -2)\n",
            "dot product: [[24 36]\n",
            " [30 42]]\n",
            "matrix mul: [69]\n"
          ]
        }
      ]
    }
  ]
}