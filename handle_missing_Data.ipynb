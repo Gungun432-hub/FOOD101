{
  "nbformat": 4,
  "nbformat_minor": 0,
  "metadata": {
    "colab": {
      "provenance": []
    },
    "kernelspec": {
      "name": "python3",
      "display_name": "Python 3"
    },
    "language_info": {
      "name": "python"
    }
  },
  "cells": [
    {
      "cell_type": "code",
      "execution_count": 17,
      "metadata": {
        "id": "e3x0V4tGsPbG"
      },
      "outputs": [],
      "source": [
        "import pandas as pd\n",
        "import numpy as np\n",
        "Report = pd.read_csv('IITK_Courses_Report.csv')\n",
        "report = Report.copy()"
      ]
    },
    {
      "cell_type": "code",
      "source": [
        "print(\"null values in columns:\")\n",
        "print(report.isnull().sum())"
      ],
      "metadata": {
        "colab": {
          "base_uri": "https://localhost:8080/"
        },
        "id": "HwEf2OhAszYu",
        "outputId": "1366896b-1501-4d79-a874-54fa838bee77"
      },
      "execution_count": 18,
      "outputs": [
        {
          "output_type": "stream",
          "name": "stdout",
          "text": [
            "null values in columns:\n",
            "Student Name      12\n",
            "Course             3\n",
            "Marks (%)         13\n",
            "Attendance (%)    17\n",
            "dtype: int64\n"
          ]
        }
      ]
    },
    {
      "cell_type": "code",
      "source": [
        "stringcolumns = report.select_dtypes(include='object').columns\n",
        "numericalcolumns = report.select_dtypes(include='number').columns\n"
      ],
      "metadata": {
        "id": "qM-FoYzvs_xH"
      },
      "execution_count": 19,
      "outputs": []
    },
    {
      "cell_type": "code",
      "source": [
        "for column in numericalcolumns:\n",
        "  for i in range(1,len(report)-1):\n",
        "    if pd.isnull(report.loc[i,column]):\n",
        "      before = report.loc[i-1,column]\n",
        "      after = report.loc[i+1,column]\n",
        "      if pd.notna(before) and pd.notna(after):\n",
        "        value = np.sqrt(before*after)\n",
        "      elif pd.notna(before):\n",
        "        value = report.loc[before,column]\n",
        "      elif pd.notna(after):\n",
        "        value = report.loc[after,column]\n",
        "      else:\n",
        "        value = None\n",
        "      report.loc[i,column] = value\n",
        "report = report.dropna(subset=stringcolumns)\n"
      ],
      "metadata": {
        "id": "3SkfYu76v7LH"
      },
      "execution_count": 20,
      "outputs": []
    },
    {
      "cell_type": "code",
      "source": [
        "report.to_csv(\"cleaned_IITK_Courses_Report.csv\")"
      ],
      "metadata": {
        "id": "ZiyQs1LPwzTJ"
      },
      "execution_count": 21,
      "outputs": []
    }
  ]
}