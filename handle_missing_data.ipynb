{
  "nbformat": 4,
  "nbformat_minor": 0,
  "metadata": {
    "colab": {
      "provenance": []
    },
    "kernelspec": {
      "name": "python3",
      "display_name": "Python 3"
    },
    "language_info": {
      "name": "python"
    }
  },
  "cells": [
    {
      "cell_type": "code",
      "source": [
        "import pandas as pd\n",
        "import numpy as np\n",
        "Report = pd.read_csv('IITK_Courses_Report.csv')\n",
        "report = Report.copy()"
      ],
      "metadata": {
        "id": "-hScnA0mTFQG"
      },
      "execution_count": 13,
      "outputs": []
    },
    {
      "cell_type": "code",
      "source": [
        "print(\"null values in columns:\")\n",
        "print(report.isnull().sum())"
      ],
      "metadata": {
        "colab": {
          "base_uri": "https://localhost:8080/"
        },
        "id": "H0RaMV3uTyU9",
        "outputId": "d4f0457e-fca3-4119-dd6b-c3019ec3d6aa"
      },
      "execution_count": 14,
      "outputs": [
        {
          "output_type": "stream",
          "name": "stdout",
          "text": [
            "null values in columns:\n",
            "Student Name      12\n",
            "Course             3\n",
            "Marks (%)         13\n",
            "Attendance (%)    17\n",
            "dtype: int64\n"
          ]
        }
      ]
    },
    {
      "cell_type": "code",
      "source": [
        "stringcolumns = report.select_dtypes(exclude=['number']).columns\n",
        "numericalcolumns = report.select_dtypes(include = ['number']).columns"
      ],
      "metadata": {
        "id": "bAkDwOy7XIbS"
      },
      "execution_count": 15,
      "outputs": []
    },
    {
      "cell_type": "code",
      "source": [
        "for column in numericalcolumns:\n",
        "  for i in range(1,len(report)):\n",
        "    if pd.isnull(report.loc[i,column]):\n",
        "      before = report.loc[i-1,column]\n",
        "      after = report.loc[i+1,column]\n",
        "      if pd.notna(before) and pd.notna(after):\n",
        "        value = np.sqrt(before*after)\n",
        "      elif pd.notna(before):\n",
        "        value = report.loc[before,column]\n",
        "      elif pd.notna(after):\n",
        "        value = report.loc[after,column]\n",
        "      else:\n",
        "        value = None\n",
        "      report.loc[i,column] = value\n",
        "\n"
      ],
      "metadata": {
        "id": "Fot4aeT4YWAF"
      },
      "execution_count": 19,
      "outputs": []
    },
    {
      "cell_type": "code",
      "source": [
        "report.to_csv(\"cleaned_IITK_Courses_Report.csv\")\n",
        "\n",
        ""
      ],
      "metadata": {
        "id": "DXhls7CjjC1l"
      },
      "execution_count": 20,
      "outputs": []
    }
  ]
}