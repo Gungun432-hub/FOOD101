{
  "nbformat": 4,
  "nbformat_minor": 0,
  "metadata": {
    "colab": {
      "provenance": []
    },
    "kernelspec": {
      "name": "python3",
      "display_name": "Python 3"
    },
    "language_info": {
      "name": "python"
    }
  },
  "cells": [
    {
      "cell_type": "markdown",
      "source": [
        "**code1:** where polynomial is already stated  "
      ],
      "metadata": {
        "id": "Fioz4TO4gCPi"
      }
    },
    {
      "cell_type": "code",
      "execution_count": 3,
      "metadata": {
        "colab": {
          "base_uri": "https://localhost:8080/"
        },
        "id": "EpIrPRNsZeln",
        "outputId": "bf1180e9-5d7e-47b9-dfd8-6187030753eb"
      },
      "outputs": [
        {
          "output_type": "stream",
          "name": "stdout",
          "text": [
            "let us take the cubic polynomial 8x^3 + 5x^2 + 7x + 3\n",
            "It's slope at x = 6 is 931\n"
          ]
        }
      ],
      "source": [
        "print(\"let us take the cubic polynomial 8x^3 + 5x^2 + 7x + 3\")\n",
        "coefficient = (8,5,7,3)\n",
        "x = 6\n",
        "def slope_of_cubic(coefficient, x):\n",
        "  a,b,c,d = coefficient\n",
        "  return 3*a*x**2 + 2*b*x + c\n",
        "slope = slope_of_cubic(coefficient, x)\n",
        "print(f\"It's slope at x = {x} is {slope}\")\n"
      ]
    },
    {
      "cell_type": "markdown",
      "source": [
        "**code2:** where polynomial is taken as input"
      ],
      "metadata": {
        "id": "sxsOmVACgdgT"
      }
    },
    {
      "cell_type": "code",
      "source": [
        "print(\"For ax^3 + bx^2 + cx + d\")\n",
        "coefficients = tuple(float(z) for z in input(\"enter the coefficient (a, b, c , d) separated by space :\").split())\n",
        "x = float(input(\"enter the value of x :\"))\n",
        "def slope_of_cubic(coefficients, x):\n",
        "  a,b,c,d = coefficients\n",
        "  return 3*a*x**2 + 2*b*x + c\n",
        "slope = slope_of_cubic(coefficients, x)\n",
        "print(f\"It's slope at x = {x} is {slope}\")\n"
      ],
      "metadata": {
        "colab": {
          "base_uri": "https://localhost:8080/"
        },
        "id": "A21pAO6qg3MW",
        "outputId": "6cd1847f-2161-4644-dbe5-b2ab9b3d19fe"
      },
      "execution_count": 5,
      "outputs": [
        {
          "output_type": "stream",
          "name": "stdout",
          "text": [
            "For ax^3 + bx^2 + cx + d\n",
            "enter the coefficient (a, b, c , d) separated by space : 8 5 7 3\n",
            "enter the value of x :6\n",
            "It's slope at x = 6.0 is 931.0\n"
          ]
        }
      ]
    },
    {
      "cell_type": "code",
      "source": [
        "print(\"For ax^3 + bx^2 + cx + d\")\n",
        "coefficients = tuple(float(z) for z in input(\"enter the numeric coefficient (a, b, c , d) separated by space :\").split())\n",
        "x = float(input(\"enter the real value of x :\"))\n",
        "def slope_of_cubic(coefficients, x):\n",
        "  if len(coefficients) !=4:\n",
        "    print(\"you must enter 4 values\")\n",
        "    return None\n",
        "  a,b,c,d = coefficients\n",
        "  return 3*a*x**2 + 2*b*x + c\n",
        "slope = slope_of_cubic(coefficients, x)\n",
        "print(f\"the slope at x = {x} is {slope}\")\n"
      ],
      "metadata": {
        "colab": {
          "base_uri": "https://localhost:8080/"
        },
        "id": "HH9Fow1FvrQJ",
        "outputId": "d0d1c8b1-49ae-456b-961a-b7ec96e25c75"
      },
      "execution_count": 14,
      "outputs": [
        {
          "output_type": "stream",
          "name": "stdout",
          "text": [
            "For ax^3 + bx^2 + cx + d\n",
            "enter the numeric coefficient (a, b, c , d) separated by space :5 6 7 \n",
            "enter the real value of x :4\n",
            "you must enter 4 values\n",
            "the slope at x = 4.0 is None\n"
          ]
        }
      ]
    }
  ]
}