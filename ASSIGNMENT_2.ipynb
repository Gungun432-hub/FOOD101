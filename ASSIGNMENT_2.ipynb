{
  "nbformat": 4,
  "nbformat_minor": 0,
  "metadata": {
    "colab": {
      "provenance": []
    },
    "kernelspec": {
      "name": "python3",
      "display_name": "Python 3"
    },
    "language_info": {
      "name": "python"
    }
  },
  "cells": [
    {
      "cell_type": "code",
      "source": [
        "import pandas as pd\n",
        "pollution = pd.read_csv(\"updated_pollution_dataset.csv\")\n",
        "pollution.head()"
      ],
      "metadata": {
        "colab": {
          "base_uri": "https://localhost:8080/",
          "height": 243
        },
        "id": "WR89APaK0Gw3",
        "outputId": "dfb53d4d-42e6-4aa4-ab51-ac3d589e2c50"
      },
      "execution_count": null,
      "outputs": [
        {
          "output_type": "execute_result",
          "data": {
            "text/plain": [
              "   Temperature  Humidity  PM2.5  PM10   NO2   SO2    CO  \\\n",
              "0         29.8      59.1    5.2  17.9  18.9   9.2  1.72   \n",
              "1         28.3      75.6    2.3  12.2  30.8   9.7  1.64   \n",
              "2         23.1      74.7   26.7  33.8  24.4  12.6  1.63   \n",
              "3         27.1      39.1    6.1   6.3  13.5   5.3  1.15   \n",
              "4         26.5      70.7    6.9  16.0  21.9   5.6  1.01   \n",
              "\n",
              "   Proximity_to_Industrial_Areas  Population_Density Air Quality  \n",
              "0                            6.3                 319    Moderate  \n",
              "1                            6.0                 611    Moderate  \n",
              "2                            5.2                 619    Moderate  \n",
              "3                           11.1                 551        Good  \n",
              "4                           12.7                 303        Good  "
            ],
            "text/html": [
              "\n",
              "  <div id=\"df-7bd732ad-efad-4914-b788-65602d6d41a5\" class=\"colab-df-container\">\n",
              "    <div>\n",
              "<style scoped>\n",
              "    .dataframe tbody tr th:only-of-type {\n",
              "        vertical-align: middle;\n",
              "    }\n",
              "\n",
              "    .dataframe tbody tr th {\n",
              "        vertical-align: top;\n",
              "    }\n",
              "\n",
              "    .dataframe thead th {\n",
              "        text-align: right;\n",
              "    }\n",
              "</style>\n",
              "<table border=\"1\" class=\"dataframe\">\n",
              "  <thead>\n",
              "    <tr style=\"text-align: right;\">\n",
              "      <th></th>\n",
              "      <th>Temperature</th>\n",
              "      <th>Humidity</th>\n",
              "      <th>PM2.5</th>\n",
              "      <th>PM10</th>\n",
              "      <th>NO2</th>\n",
              "      <th>SO2</th>\n",
              "      <th>CO</th>\n",
              "      <th>Proximity_to_Industrial_Areas</th>\n",
              "      <th>Population_Density</th>\n",
              "      <th>Air Quality</th>\n",
              "    </tr>\n",
              "  </thead>\n",
              "  <tbody>\n",
              "    <tr>\n",
              "      <th>0</th>\n",
              "      <td>29.8</td>\n",
              "      <td>59.1</td>\n",
              "      <td>5.2</td>\n",
              "      <td>17.9</td>\n",
              "      <td>18.9</td>\n",
              "      <td>9.2</td>\n",
              "      <td>1.72</td>\n",
              "      <td>6.3</td>\n",
              "      <td>319</td>\n",
              "      <td>Moderate</td>\n",
              "    </tr>\n",
              "    <tr>\n",
              "      <th>1</th>\n",
              "      <td>28.3</td>\n",
              "      <td>75.6</td>\n",
              "      <td>2.3</td>\n",
              "      <td>12.2</td>\n",
              "      <td>30.8</td>\n",
              "      <td>9.7</td>\n",
              "      <td>1.64</td>\n",
              "      <td>6.0</td>\n",
              "      <td>611</td>\n",
              "      <td>Moderate</td>\n",
              "    </tr>\n",
              "    <tr>\n",
              "      <th>2</th>\n",
              "      <td>23.1</td>\n",
              "      <td>74.7</td>\n",
              "      <td>26.7</td>\n",
              "      <td>33.8</td>\n",
              "      <td>24.4</td>\n",
              "      <td>12.6</td>\n",
              "      <td>1.63</td>\n",
              "      <td>5.2</td>\n",
              "      <td>619</td>\n",
              "      <td>Moderate</td>\n",
              "    </tr>\n",
              "    <tr>\n",
              "      <th>3</th>\n",
              "      <td>27.1</td>\n",
              "      <td>39.1</td>\n",
              "      <td>6.1</td>\n",
              "      <td>6.3</td>\n",
              "      <td>13.5</td>\n",
              "      <td>5.3</td>\n",
              "      <td>1.15</td>\n",
              "      <td>11.1</td>\n",
              "      <td>551</td>\n",
              "      <td>Good</td>\n",
              "    </tr>\n",
              "    <tr>\n",
              "      <th>4</th>\n",
              "      <td>26.5</td>\n",
              "      <td>70.7</td>\n",
              "      <td>6.9</td>\n",
              "      <td>16.0</td>\n",
              "      <td>21.9</td>\n",
              "      <td>5.6</td>\n",
              "      <td>1.01</td>\n",
              "      <td>12.7</td>\n",
              "      <td>303</td>\n",
              "      <td>Good</td>\n",
              "    </tr>\n",
              "  </tbody>\n",
              "</table>\n",
              "</div>\n",
              "    <div class=\"colab-df-buttons\">\n",
              "\n",
              "  <div class=\"colab-df-container\">\n",
              "    <button class=\"colab-df-convert\" onclick=\"convertToInteractive('df-7bd732ad-efad-4914-b788-65602d6d41a5')\"\n",
              "            title=\"Convert this dataframe to an interactive table.\"\n",
              "            style=\"display:none;\">\n",
              "\n",
              "  <svg xmlns=\"http://www.w3.org/2000/svg\" height=\"24px\" viewBox=\"0 -960 960 960\">\n",
              "    <path d=\"M120-120v-720h720v720H120Zm60-500h600v-160H180v160Zm220 220h160v-160H400v160Zm0 220h160v-160H400v160ZM180-400h160v-160H180v160Zm440 0h160v-160H620v160ZM180-180h160v-160H180v160Zm440 0h160v-160H620v160Z\"/>\n",
              "  </svg>\n",
              "    </button>\n",
              "\n",
              "  <style>\n",
              "    .colab-df-container {\n",
              "      display:flex;\n",
              "      gap: 12px;\n",
              "    }\n",
              "\n",
              "    .colab-df-convert {\n",
              "      background-color: #E8F0FE;\n",
              "      border: none;\n",
              "      border-radius: 50%;\n",
              "      cursor: pointer;\n",
              "      display: none;\n",
              "      fill: #1967D2;\n",
              "      height: 32px;\n",
              "      padding: 0 0 0 0;\n",
              "      width: 32px;\n",
              "    }\n",
              "\n",
              "    .colab-df-convert:hover {\n",
              "      background-color: #E2EBFA;\n",
              "      box-shadow: 0px 1px 2px rgba(60, 64, 67, 0.3), 0px 1px 3px 1px rgba(60, 64, 67, 0.15);\n",
              "      fill: #174EA6;\n",
              "    }\n",
              "\n",
              "    .colab-df-buttons div {\n",
              "      margin-bottom: 4px;\n",
              "    }\n",
              "\n",
              "    [theme=dark] .colab-df-convert {\n",
              "      background-color: #3B4455;\n",
              "      fill: #D2E3FC;\n",
              "    }\n",
              "\n",
              "    [theme=dark] .colab-df-convert:hover {\n",
              "      background-color: #434B5C;\n",
              "      box-shadow: 0px 1px 3px 1px rgba(0, 0, 0, 0.15);\n",
              "      filter: drop-shadow(0px 1px 2px rgba(0, 0, 0, 0.3));\n",
              "      fill: #FFFFFF;\n",
              "    }\n",
              "  </style>\n",
              "\n",
              "    <script>\n",
              "      const buttonEl =\n",
              "        document.querySelector('#df-7bd732ad-efad-4914-b788-65602d6d41a5 button.colab-df-convert');\n",
              "      buttonEl.style.display =\n",
              "        google.colab.kernel.accessAllowed ? 'block' : 'none';\n",
              "\n",
              "      async function convertToInteractive(key) {\n",
              "        const element = document.querySelector('#df-7bd732ad-efad-4914-b788-65602d6d41a5');\n",
              "        const dataTable =\n",
              "          await google.colab.kernel.invokeFunction('convertToInteractive',\n",
              "                                                    [key], {});\n",
              "        if (!dataTable) return;\n",
              "\n",
              "        const docLinkHtml = 'Like what you see? Visit the ' +\n",
              "          '<a target=\"_blank\" href=https://colab.research.google.com/notebooks/data_table.ipynb>data table notebook</a>'\n",
              "          + ' to learn more about interactive tables.';\n",
              "        element.innerHTML = '';\n",
              "        dataTable['output_type'] = 'display_data';\n",
              "        await google.colab.output.renderOutput(dataTable, element);\n",
              "        const docLink = document.createElement('div');\n",
              "        docLink.innerHTML = docLinkHtml;\n",
              "        element.appendChild(docLink);\n",
              "      }\n",
              "    </script>\n",
              "  </div>\n",
              "\n",
              "\n",
              "<div id=\"df-4cec9ce3-1666-45cd-845d-c2f8bd31a4b8\">\n",
              "  <button class=\"colab-df-quickchart\" onclick=\"quickchart('df-4cec9ce3-1666-45cd-845d-c2f8bd31a4b8')\"\n",
              "            title=\"Suggest charts\"\n",
              "            style=\"display:none;\">\n",
              "\n",
              "<svg xmlns=\"http://www.w3.org/2000/svg\" height=\"24px\"viewBox=\"0 0 24 24\"\n",
              "     width=\"24px\">\n",
              "    <g>\n",
              "        <path d=\"M19 3H5c-1.1 0-2 .9-2 2v14c0 1.1.9 2 2 2h14c1.1 0 2-.9 2-2V5c0-1.1-.9-2-2-2zM9 17H7v-7h2v7zm4 0h-2V7h2v10zm4 0h-2v-4h2v4z\"/>\n",
              "    </g>\n",
              "</svg>\n",
              "  </button>\n",
              "\n",
              "<style>\n",
              "  .colab-df-quickchart {\n",
              "      --bg-color: #E8F0FE;\n",
              "      --fill-color: #1967D2;\n",
              "      --hover-bg-color: #E2EBFA;\n",
              "      --hover-fill-color: #174EA6;\n",
              "      --disabled-fill-color: #AAA;\n",
              "      --disabled-bg-color: #DDD;\n",
              "  }\n",
              "\n",
              "  [theme=dark] .colab-df-quickchart {\n",
              "      --bg-color: #3B4455;\n",
              "      --fill-color: #D2E3FC;\n",
              "      --hover-bg-color: #434B5C;\n",
              "      --hover-fill-color: #FFFFFF;\n",
              "      --disabled-bg-color: #3B4455;\n",
              "      --disabled-fill-color: #666;\n",
              "  }\n",
              "\n",
              "  .colab-df-quickchart {\n",
              "    background-color: var(--bg-color);\n",
              "    border: none;\n",
              "    border-radius: 50%;\n",
              "    cursor: pointer;\n",
              "    display: none;\n",
              "    fill: var(--fill-color);\n",
              "    height: 32px;\n",
              "    padding: 0;\n",
              "    width: 32px;\n",
              "  }\n",
              "\n",
              "  .colab-df-quickchart:hover {\n",
              "    background-color: var(--hover-bg-color);\n",
              "    box-shadow: 0 1px 2px rgba(60, 64, 67, 0.3), 0 1px 3px 1px rgba(60, 64, 67, 0.15);\n",
              "    fill: var(--button-hover-fill-color);\n",
              "  }\n",
              "\n",
              "  .colab-df-quickchart-complete:disabled,\n",
              "  .colab-df-quickchart-complete:disabled:hover {\n",
              "    background-color: var(--disabled-bg-color);\n",
              "    fill: var(--disabled-fill-color);\n",
              "    box-shadow: none;\n",
              "  }\n",
              "\n",
              "  .colab-df-spinner {\n",
              "    border: 2px solid var(--fill-color);\n",
              "    border-color: transparent;\n",
              "    border-bottom-color: var(--fill-color);\n",
              "    animation:\n",
              "      spin 1s steps(1) infinite;\n",
              "  }\n",
              "\n",
              "  @keyframes spin {\n",
              "    0% {\n",
              "      border-color: transparent;\n",
              "      border-bottom-color: var(--fill-color);\n",
              "      border-left-color: var(--fill-color);\n",
              "    }\n",
              "    20% {\n",
              "      border-color: transparent;\n",
              "      border-left-color: var(--fill-color);\n",
              "      border-top-color: var(--fill-color);\n",
              "    }\n",
              "    30% {\n",
              "      border-color: transparent;\n",
              "      border-left-color: var(--fill-color);\n",
              "      border-top-color: var(--fill-color);\n",
              "      border-right-color: var(--fill-color);\n",
              "    }\n",
              "    40% {\n",
              "      border-color: transparent;\n",
              "      border-right-color: var(--fill-color);\n",
              "      border-top-color: var(--fill-color);\n",
              "    }\n",
              "    60% {\n",
              "      border-color: transparent;\n",
              "      border-right-color: var(--fill-color);\n",
              "    }\n",
              "    80% {\n",
              "      border-color: transparent;\n",
              "      border-right-color: var(--fill-color);\n",
              "      border-bottom-color: var(--fill-color);\n",
              "    }\n",
              "    90% {\n",
              "      border-color: transparent;\n",
              "      border-bottom-color: var(--fill-color);\n",
              "    }\n",
              "  }\n",
              "</style>\n",
              "\n",
              "  <script>\n",
              "    async function quickchart(key) {\n",
              "      const quickchartButtonEl =\n",
              "        document.querySelector('#' + key + ' button');\n",
              "      quickchartButtonEl.disabled = true;  // To prevent multiple clicks.\n",
              "      quickchartButtonEl.classList.add('colab-df-spinner');\n",
              "      try {\n",
              "        const charts = await google.colab.kernel.invokeFunction(\n",
              "            'suggestCharts', [key], {});\n",
              "      } catch (error) {\n",
              "        console.error('Error during call to suggestCharts:', error);\n",
              "      }\n",
              "      quickchartButtonEl.classList.remove('colab-df-spinner');\n",
              "      quickchartButtonEl.classList.add('colab-df-quickchart-complete');\n",
              "    }\n",
              "    (() => {\n",
              "      let quickchartButtonEl =\n",
              "        document.querySelector('#df-4cec9ce3-1666-45cd-845d-c2f8bd31a4b8 button');\n",
              "      quickchartButtonEl.style.display =\n",
              "        google.colab.kernel.accessAllowed ? 'block' : 'none';\n",
              "    })();\n",
              "  </script>\n",
              "</div>\n",
              "\n",
              "    </div>\n",
              "  </div>\n"
            ],
            "application/vnd.google.colaboratory.intrinsic+json": {
              "type": "dataframe",
              "variable_name": "pollution",
              "summary": "{\n  \"name\": \"pollution\",\n  \"rows\": 5000,\n  \"fields\": [\n    {\n      \"column\": \"Temperature\",\n      \"properties\": {\n        \"dtype\": \"number\",\n        \"std\": 6.72066137351523,\n        \"min\": 13.4,\n        \"max\": 58.6,\n        \"num_unique_values\": 362,\n        \"samples\": [\n          20.3,\n          27.7,\n          32.0\n        ],\n        \"semantic_type\": \"\",\n        \"description\": \"\"\n      }\n    },\n    {\n      \"column\": \"Humidity\",\n      \"properties\": {\n        \"dtype\": \"number\",\n        \"std\": 15.863576682407786,\n        \"min\": 36.0,\n        \"max\": 128.1,\n        \"num_unique_values\": 723,\n        \"samples\": [\n          74.3,\n          58.5,\n          86.2\n        ],\n        \"semantic_type\": \"\",\n        \"description\": \"\"\n      }\n    },\n    {\n      \"column\": \"PM2.5\",\n      \"properties\": {\n        \"dtype\": \"number\",\n        \"std\": 24.554545879838066,\n        \"min\": 0.0,\n        \"max\": 295.0,\n        \"num_unique_values\": 815,\n        \"samples\": [\n          21.7,\n          11.5,\n          52.1\n        ],\n        \"semantic_type\": \"\",\n        \"description\": \"\"\n      }\n    },\n    {\n      \"column\": \"PM10\",\n      \"properties\": {\n        \"dtype\": \"number\",\n        \"std\": 27.349199378624032,\n        \"min\": -0.2,\n        \"max\": 315.8,\n        \"num_unique_values\": 955,\n        \"samples\": [\n          18.4,\n          97.4,\n          83.0\n        ],\n        \"semantic_type\": \"\",\n        \"description\": \"\"\n      }\n    },\n    {\n      \"column\": \"NO2\",\n      \"properties\": {\n        \"dtype\": \"number\",\n        \"std\": 8.895356376391709,\n        \"min\": 7.4,\n        \"max\": 64.9,\n        \"num_unique_values\": 445,\n        \"samples\": [\n          19.9,\n          19.8,\n          33.1\n        ],\n        \"semantic_type\": \"\",\n        \"description\": \"\"\n      }\n    },\n    {\n      \"column\": \"SO2\",\n      \"properties\": {\n        \"dtype\": \"number\",\n        \"std\": 6.750303377385161,\n        \"min\": -6.2,\n        \"max\": 44.9,\n        \"num_unique_values\": 348,\n        \"samples\": [\n          18.7,\n          13.4,\n          35.7\n        ],\n        \"semantic_type\": \"\",\n        \"description\": \"\"\n      }\n    },\n    {\n      \"column\": \"CO\",\n      \"properties\": {\n        \"dtype\": \"number\",\n        \"std\": 0.5460266694116166,\n        \"min\": 0.65,\n        \"max\": 3.72,\n        \"num_unique_values\": 265,\n        \"samples\": [\n          2.27,\n          2.02,\n          2.97\n        ],\n        \"semantic_type\": \"\",\n        \"description\": \"\"\n      }\n    },\n    {\n      \"column\": \"Proximity_to_Industrial_Areas\",\n      \"properties\": {\n        \"dtype\": \"number\",\n        \"std\": 3.610943730235125,\n        \"min\": 2.5,\n        \"max\": 25.8,\n        \"num_unique_values\": 179,\n        \"samples\": [\n          9.0,\n          4.1,\n          8.2\n        ],\n        \"semantic_type\": \"\",\n        \"description\": \"\"\n      }\n    },\n    {\n      \"column\": \"Population_Density\",\n      \"properties\": {\n        \"dtype\": \"number\",\n        \"std\": 152,\n        \"min\": 188,\n        \"max\": 957,\n        \"num_unique_values\": 683,\n        \"samples\": [\n          295,\n          679,\n          492\n        ],\n        \"semantic_type\": \"\",\n        \"description\": \"\"\n      }\n    },\n    {\n      \"column\": \"Air Quality\",\n      \"properties\": {\n        \"dtype\": \"category\",\n        \"num_unique_values\": 4,\n        \"samples\": [\n          \"Good\",\n          \"Poor\",\n          \"Moderate\"\n        ],\n        \"semantic_type\": \"\",\n        \"description\": \"\"\n      }\n    }\n  ]\n}"
            }
          },
          "metadata": {},
          "execution_count": 37
        }
      ]
    },
    {
      "cell_type": "code",
      "source": [
        "from sklearn.linear_model import LogisticRegression\n",
        "from sklearn.tree import DecisionTreeClassifier\n",
        "from sklearn.ensemble import RandomForestClassifier\n",
        "from sklearn.metrics import accuracy_score, f1_score, recall_score, precision_score, classification_report, confusion_matrix\n",
        "from sklearn.model_selection import train_test_split, GridSearchCV\n",
        "from sklearn.model_selection import train_test_split\n",
        "import seaborn as sns\n"
      ],
      "metadata": {
        "id": "-kgkTK-A0ksn"
      },
      "execution_count": null,
      "outputs": []
    },
    {
      "cell_type": "code",
      "source": [
        "\n",
        "\n",
        "X = pollution.drop(columns=[\"Air Quality\"])\n",
        "Y = pollution[\"Air Quality\"]\n"
      ],
      "metadata": {
        "id": "uMnU-Dmn2N_p"
      },
      "execution_count": null,
      "outputs": []
    },
    {
      "cell_type": "code",
      "source": [
        "X_train, X_test, Y_train, Y_test = train_test_split(X, Y, test_size=0.2, random_state=42)\n"
      ],
      "metadata": {
        "id": "WjTF4hEq4dTB"
      },
      "execution_count": null,
      "outputs": []
    },
    {
      "cell_type": "markdown",
      "source": [
        "## **☁ ML MODELS:**\n",
        "# 1. LOGISTIC REGRESSION (LR)\n",
        "\n",
        "\n"
      ],
      "metadata": {
        "id": "dPmZt4XS56zM"
      }
    },
    {
      "cell_type": "code",
      "source": [
        "modelLR = LogisticRegression(multi_class=\"multinomial\", solver=\"lbfgs\")\n",
        "modelLR.fit(X_train, Y_train)\n",
        "Y_pred = modelLR.predict(X_test)\n",
        "accuracyLR = accuracy_score(Y_test, Y_pred)\n",
        "f1scoreLR = f1_score(Y_test, Y_pred, average=\"weighted\")\n",
        "\n",
        "print(\"PERFORMANCE of LR\")\n",
        "print(\"Accuracy:\", accuracyLR)\n",
        "print(\"F1 Score:\", f1scoreLR)\n",
        "print(\"Recall:\", recall_score(Y_test, Y_pred, average=\"weighted\"))\n",
        "print(\"Precision:\", precision_score(Y_test, Y_pred, average=\"weighted\"))\n",
        "print(classification_report(Y_test, Y_pred))\n",
        "\n",
        "sns.heatmap(confusion_matrix(Y_test, Y_pred), annot=True)"
      ],
      "metadata": {
        "colab": {
          "base_uri": "https://localhost:8080/",
          "height": 918
        },
        "id": "cRvEOHBW5LX0",
        "outputId": "c207038e-58c2-4a6b-df6f-f14148a18681"
      },
      "execution_count": null,
      "outputs": [
        {
          "output_type": "stream",
          "name": "stderr",
          "text": [
            "/usr/local/lib/python3.10/dist-packages/sklearn/linear_model/_logistic.py:1247: FutureWarning: 'multi_class' was deprecated in version 1.5 and will be removed in 1.7. From then on, it will always use 'multinomial'. Leave it to its default value to avoid this warning.\n",
            "  warnings.warn(\n",
            "/usr/local/lib/python3.10/dist-packages/sklearn/linear_model/_logistic.py:465: ConvergenceWarning: lbfgs failed to converge (status=1):\n",
            "STOP: TOTAL NO. of ITERATIONS REACHED LIMIT.\n",
            "\n",
            "Increase the number of iterations (max_iter) or scale the data as shown in:\n",
            "    https://scikit-learn.org/stable/modules/preprocessing.html\n",
            "Please also refer to the documentation for alternative solver options:\n",
            "    https://scikit-learn.org/stable/modules/linear_model.html#logistic-regression\n",
            "  n_iter_i = _check_optimize_result(\n"
          ]
        },
        {
          "output_type": "stream",
          "name": "stdout",
          "text": [
            "PERFORMANCE of LR\n",
            "Accuracy: 0.751\n",
            "F1 Score: 0.7463395764126738\n",
            "Recall: 0.751\n",
            "Precision: 0.7436382627937637\n",
            "              precision    recall  f1-score   support\n",
            "\n",
            "        Good       0.97      0.96      0.97       409\n",
            "   Hazardous       0.44      0.38      0.41       111\n",
            "    Moderate       0.74      0.82      0.77       294\n",
            "        Poor       0.44      0.41      0.42       186\n",
            "\n",
            "    accuracy                           0.75      1000\n",
            "   macro avg       0.65      0.64      0.64      1000\n",
            "weighted avg       0.74      0.75      0.75      1000\n",
            "\n"
          ]
        },
        {
          "output_type": "execute_result",
          "data": {
            "text/plain": [
              "<Axes: >"
            ]
          },
          "metadata": {},
          "execution_count": 41
        },
        {
          "output_type": "display_data",
          "data": {
            "text/plain": [
              "<Figure size 640x480 with 2 Axes>"
            ],
            "image/png": "[encoded data removed]"
          },
          "metadata": {}
        }
      ]
    },
    {
      "cell_type": "markdown",
      "source": [
        "# **☁ ML MODELS:**\n",
        "\n",
        "#   2. DECISION TREE (DT)"
      ],
      "metadata": {
        "id": "Xo0L4rw2Eh85"
      }
    },
    {
      "cell_type": "code",
      "source": [
        "modelDT = DecisionTreeClassifier(random_state=42, max_depth=5)\n",
        "modelDT.fit(X_train, Y_train)\n",
        "Y_pred = modelDT.predict(X_test)\n",
        "accuracyDT = accuracy_score(Y_test, Y_pred)\n",
        "f1scoreDT = f1_score(Y_test, Y_pred, average=\"weighted\")\n",
        "\n",
        "print(\"PERFORMANCE of DT\")\n",
        "print(\"Accuracy:\", accuracyDT)\n",
        "print(\"F1 Score:\", f1scoreDT)\n",
        "print(\"Recall:\", recall_score(Y_test, Y_pred, average=\"weighted\"))\n",
        "print(\"Precision:\", precision_score(Y_test, Y_pred, average=\"weighted\"))\n",
        "print(classification_report(Y_test, Y_pred))\n",
        "\n",
        "sns.heatmap(confusion_matrix(Y_test, Y_pred), annot=True)\n",
        "\n",
        "Tree_params = {'max_depth': [1,3,5,7,9,11]}\n",
        "Masterclf = GridSearchCV(modelDT, Tree_params, scoring='accuracy')\n",
        "Masterclf.fit(X_train, Y_train)\n",
        "print(Masterclf.best_params_)"
      ],
      "metadata": {
        "colab": {
          "base_uri": "https://localhost:8080/",
          "height": 728
        },
        "id": "UsYnje7YGbbl",
        "outputId": "17f9aab2-ff6c-4bb1-ed4a-307ccf6db779"
      },
      "execution_count": null,
      "outputs": [
        {
          "output_type": "stream",
          "name": "stdout",
          "text": [
            "PERFORMANCE of DT\n",
            "Accuracy: 0.902\n",
            "F1 Score: 0.9025065013674987\n",
            "Recall: 0.902\n",
            "Precision: 0.9042121178874093\n",
            "              precision    recall  f1-score   support\n",
            "\n",
            "        Good       1.00      0.98      0.99       409\n",
            "   Hazardous       0.73      0.84      0.78       111\n",
            "    Moderate       0.92      0.93      0.92       294\n",
            "        Poor       0.77      0.73      0.75       186\n",
            "\n",
            "    accuracy                           0.90      1000\n",
            "   macro avg       0.86      0.87      0.86      1000\n",
            "weighted avg       0.90      0.90      0.90      1000\n",
            "\n",
            "{'max_depth': 11}\n"
          ]
        },
        {
          "output_type": "display_data",
          "data": {
            "text/plain": [
              "<Figure size 640x480 with 2 Axes>"
            ],
            "image/png": "[encoded data removed]"
          },
          "metadata": {}
        }
      ]
    },
    {
      "cell_type": "markdown",
      "source": [
        "# **☁ ML MODELS:**\n",
        "# 3. Random Forest (RF)"
      ],
      "metadata": {
        "id": "h7oR8Vb7Mq2t"
      }
    },
    {
      "cell_type": "code",
      "source": [
        "modelRF = RandomForestClassifier(random_state=42, n_estimators=100)\n",
        "modelRF.fit(X_train, Y_train)\n",
        "Y_pred = modelRF.predict(X_test)\n",
        "accuracyRF = accuracy_score(Y_test, Y_pred)\n",
        "f1scoreRF = f1_score(Y_test, Y_pred, average=\"weighted\")\n",
        "\n",
        "print(\"PERFORMANCE of RF\")\n",
        "print(\"Accuracy:\", accuracyRF)\n",
        "print(\"F1 Score:\", f1scoreRF)\n",
        "print(\"Recall:\", recall_score(Y_test, Y_pred, average=\"weighted\"))\n",
        "print(\"Precision:\", precision_score(Y_test, Y_pred, average=\"weighted\"))\n",
        "print(classification_report(Y_test, Y_pred))\n",
        "\n",
        "sns.heatmap(confusion_matrix(Y_test, Y_pred), annot=True)\n",
        "\n",
        "forest_params = {'n_estimators':[1,3,5,7,9]}\n",
        "\n",
        "clf = GridSearchCV(modelRF, forest_params, scoring='accuracy')\n",
        "\n",
        "clf.fit(X_train, Y_train)\n",
        "print(clf.best_params_)"
      ],
      "metadata": {
        "colab": {
          "base_uri": "https://localhost:8080/",
          "height": 725
        },
        "id": "9rrZ5rK4G81u",
        "outputId": "036876ae-253a-4908-8abd-278214c2636b"
      },
      "execution_count": null,
      "outputs": [
        {
          "output_type": "stream",
          "name": "stdout",
          "text": [
            "PERFORMANCE of RF\n",
            "Accuracy: 0.96\n",
            "F1 Score: 0.9599869595058339\n",
            "Recall: 0.96\n",
            "Precision: 0.9601196977092555\n",
            "              precision    recall  f1-score   support\n",
            "\n",
            "        Good       1.00      1.00      1.00       409\n",
            "   Hazardous       0.92      0.88      0.90       111\n",
            "    Moderate       0.97      0.97      0.97       294\n",
            "        Poor       0.88      0.90      0.89       186\n",
            "\n",
            "    accuracy                           0.96      1000\n",
            "   macro avg       0.94      0.94      0.94      1000\n",
            "weighted avg       0.96      0.96      0.96      1000\n",
            "\n",
            "{'n_estimators': 9}\n"
          ]
        },
        {
          "output_type": "display_data",
          "data": {
            "text/plain": [
              "<Figure size 640x480 with 2 Axes>"
            ],
            "image/png": "[encoded data removed]"
          },
          "metadata": {}
        }
      ]
    }
  ]
}